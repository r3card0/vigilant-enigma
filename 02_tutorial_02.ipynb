{
 "cells": [
  {
   "cell_type": "markdown",
   "id": "b3cef076",
   "metadata": {},
   "source": [
    "# Python Scripting tutorial\n",
    "\n",
    "[tutorial video](https://www.youtube.com/watch?v=AVHqSRMxwPI)"
   ]
  },
  {
   "cell_type": "markdown",
   "id": "652417f2",
   "metadata": {},
   "source": [
    "## OS Library\n",
    "* OS library stands for operating system"
   ]
  },
  {
   "cell_type": "code",
   "execution_count": null,
   "id": "4ae42a4a",
   "metadata": {},
   "outputs": [],
   "source": [
    "import os"
   ]
  },
  {
   "cell_type": "code",
   "execution_count": null,
   "id": "6ef54050",
   "metadata": {},
   "outputs": [],
   "source": [
    "# extract the currenmt directory\n",
    "def current_directory():\n",
    "    cwd = os.getcwd()\n",
    "    print(cwd)"
   ]
  },
  {
   "cell_type": "code",
   "execution_count": null,
   "id": "800008c6",
   "metadata": {},
   "outputs": [],
   "source": [
    "current_directory()"
   ]
  },
  {
   "cell_type": "code",
   "execution_count": null,
   "id": "5b449da9",
   "metadata": {},
   "outputs": [],
   "source": [
    "# print the path of the file\n",
    "def file_path(filename):\n",
    "    path = os.path.abspath((filename))\n",
    "    return path"
   ]
  },
  {
   "cell_type": "code",
   "execution_count": null,
   "id": "eaee0956",
   "metadata": {},
   "outputs": [],
   "source": [
    "# addind filename into a variable\n",
    "filename = 'git_comandos.txt'"
   ]
  },
  {
   "cell_type": "code",
   "execution_count": null,
   "id": "cd77ace9",
   "metadata": {},
   "outputs": [],
   "source": [
    "print(file_path(filename))"
   ]
  },
  {
   "cell_type": "markdown",
   "id": "487d1371",
   "metadata": {},
   "source": [
    "## time module"
   ]
  },
  {
   "cell_type": "markdown",
   "id": "a378c30e",
   "metadata": {},
   "source": [
    "* January 1970 is the starting point of a certain timeline\n",
    "* time is basically the number of seconds that passed since January 1st of 1970"
   ]
  },
  {
   "cell_type": "code",
   "execution_count": null,
   "id": "695ea1ab",
   "metadata": {},
   "outputs": [],
   "source": [
    "# print seconds passed\n",
    "import time\n",
    "\n",
    "def passed_time():\n",
    "    epc = time.time()\n",
    "    return epc"
   ]
  },
  {
   "cell_type": "code",
   "execution_count": null,
   "id": "285c0c13",
   "metadata": {},
   "outputs": [],
   "source": [
    "print(passed_time())"
   ]
  },
  {
   "cell_type": "code",
   "execution_count": null,
   "id": "103e0c7b",
   "metadata": {},
   "outputs": [],
   "source": []
  },
  {
   "cell_type": "code",
   "execution_count": null,
   "id": "1fd07b78",
   "metadata": {},
   "outputs": [],
   "source": []
  }
 ],
 "metadata": {
  "kernelspec": {
   "display_name": "Python 3 (ipykernel)",
   "language": "python",
   "name": "python3"
  },
  "language_info": {
   "codemirror_mode": {
    "name": "ipython",
    "version": 3
   },
   "file_extension": ".py",
   "mimetype": "text/x-python",
   "name": "python",
   "nbconvert_exporter": "python",
   "pygments_lexer": "ipython3",
   "version": "3.10.0"
  }
 },
 "nbformat": 4,
 "nbformat_minor": 5
}
